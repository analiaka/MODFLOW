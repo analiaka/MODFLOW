{
 "cells": [
  {
   "cell_type": "markdown",
   "metadata": {},
   "source": [
    "# Introduction\r\n",
    "\r\n",
    "This Jupyter Notebook demonstrates the step-by-step process for loading and utilizing an existing MODFLOW model, specifically the **COHYST** (Cooperative Hydrology Study) model. The COHYST model is widely used to simulate groundwater flow and assess water resource management strategies in Nebraska. \r\n",
    "\r\n",
    "The notebook leverages the capabilities of the **Flopy** library, a Python package for working with MODFLOW models. It includes tasks such as:\r\n",
    "\r\n",
    "- Loading the model's input and output files,\r\n",
    "- Running the model,\r\n",
    "- Visualizing hydraulic heads and other key results,\r\n",
    "- Extracting meaningful insights from the data.\r\n",
    "\r\n",
    "By following this notebook, users can efficiently analyze an existing MODFLOW model and adapt similar workflows to their own groundwater modeling projects.\r\n",
    " projects.\r\n"
   ]
  },
  {
   "cell_type": "markdown",
   "metadata": {},
   "source": [
    "# Resources\n",
    "\n",
    "- **[Flopy Documentation](https://flopy.readthedocs.io/en/latest/introduction.html)**\n",
    "- **[MODFLOW Online Documentation](https://water.usgs.gov/nrp/gwsoftware/modflow2000/MFDOC/index.html?rch.htm)**\n",
    "- **[MODFLOW-2005 User Manual](https://water.usgs.gov/ogw/modflow/MODFLOW-2005-Guide/index.html)**\n",
    "- **[Cooperative Hydrology Study (COHYST)](https://cohyst.nebraska.gov/)**\n",
    "\n",
    "---\n",
    "\n",
    "**Note:**  \n",
    "First, create your working folder and label it clearly \n",
    "\n",
    "Next, find and download the COHYST Groundwater model from the **COHYST website.(https://cohyst.nebraska.gov/#mds).** \n",
    "\n",
    "Check the model files within the folder labeled 'MODFLOW' that you downloaded from the COHYST website. You will discover that the different files are labeled 'cohyst_template' followed by the extension (file type).\n",
    "\n",
    "The quotation marks around 'cohyst_template' indicate that the name is a placeholder. This means it represents a generic or temporary name that you can customize to suit your specific project.\n",
    "\n",
    "You have two options when working with this placeholder:\n",
    "\n",
    "1. Keep the name: If you decide to use the name as it is, simply remove the quotation marks (') so that the name becomes cohyst_template without the quotes.\n",
    "2. Change the name: If you want to replace the placeholder with your own name, ensure you also remove the quotation marks (') and use your desired name without them.\n",
    "\n",
    "\n",
    "Additionally, to use this script, you must download a MODFLOW executable from the [USGS website](https://water.usgs.gov/ogw/modflow/) and place it in the same folder as the model. Remember that this script will only work with MODFLOW or MODFLOW-2005 executables and may be modified to use MODFLOW-USG. **MODFLOW 6** has a separate set of Flopy\n"
   ]
  },
  {
   "cell_type": "markdown",
   "metadata": {},
   "source": [
    "### I. Import Packages and Create Model Object"
   ]
  },
  {
   "cell_type": "code",
   "execution_count": null,
   "metadata": {},
   "outputs": [],
   "source": [
    "import flopy\n",
    "import numpy as np\n",
    "import matplotlib.pyplot as plt\n",
    "import matplotlib as mp\n",
    "import os\n",
    "\n",
    "%matplotlib inline"
   ]
  },
  {
   "cell_type": "code",
   "execution_count": null,
   "metadata": {},
   "outputs": [],
   "source": [
    "#Check Flopy version to ensure it is the latest\n",
    "flopy.__version__\n"
   ]
  },
  {
   "cell_type": "code",
   "execution_count": null,
   "metadata": {},
   "outputs": [],
   "source": [
    "#Double-check versions for others too if needed\n",
    "import sys\n",
    "print(sys.version)\n",
    "print(f\"numpy version: {np.__version__}\")\n",
    "print(f\"matplotlib version: {mp.__version__}\")\n",
    "print(f\"flopy version: {flopy.__version__}\")"
   ]
  },
  {
   "cell_type": "code",
   "execution_count": null,
   "metadata": {},
   "outputs": [],
   "source": [
    "#Set workspace\n",
    "workspace = \"path_to_your_data\" \n",
    "if not os.path.exists(workspace):\n",
    "    os.makedirs(workspace)\n",
    "\n",
    "print(f\"Workspace directory set to: {workspace}\")"
   ]
  },
  {
   "cell_type": "code",
   "execution_count": null,
   "metadata": {},
   "outputs": [],
   "source": [
    "files = os.listdir(workspace)\n",
    "\n",
    "\n",
    "print(f\"Files in the directory '{workspace}':\") # Print the list of files\n",
    "for file in files:\n",
    "    file_path = os.path.join(workspace, file)\n",
    "    if os.path.isfile(file_path):\n",
    "        print(f\"File: {file}\")\n",
    "    elif os.path.isdir(file_path):\n",
    "        print(f\"Directory: {file}\")    \n",
    "        \n",
    "      \n",
    "        \n",
    "only_files = [f for f in files if os.path.isfile(os.path.join(workspace, f))]\n",
    "print(\"\\nList of files only:\")\n",
    "for f in only_files:\n",
    "    print(f)\n",
    "\n",
    "\n",
    "if 'cohyst_template.nam' in files:\n",
    "    print(' cohyst_template is present')\n",
    "else:\n",
    "    print('It is not there')"
   ]
  },
  {
   "cell_type": "code",
   "execution_count": null,
   "metadata": {},
   "outputs": [],
   "source": [
    "# Define the workspace and model name if you haven't already done so\n",
    "model_ws=workspace\n",
    "modelname = \"cohyst_template\"\n"
   ]
  },
  {
   "cell_type": "code",
   "execution_count": null,
   "metadata": {},
   "outputs": [],
   "source": [
    "#Checking that files are indeed present in the workspace. You can test out the various files from the previous step\n",
    "\n",
    "dis_file = os.path.join(model_ws, 'cohyst_template.dis')  # replace with your actual DIS file name\n",
    "rch_file = os.path.join(model_ws, 'cohyst_template.rch')  # replace with your actual RCH file name\n",
    "hds_file = os.path.join(model_ws, 'cohyst_template.hds')  # replace with your actual HDS file name\n",
    "lst_file = os.path.join(model_ws, 'cohyst_template.lst')  # replace with your actual LST file name\n",
    "cbb_file = os.path.join(model_ws, 'cohyst_template.cbb')  # replace with your actual CBB file name\n",
    "ddn_file = os.path.join(model_ws, 'cohyst_template.ddn')  # replace with your actual DDN file name\n",
    "obh_file = os.path.join(model_ws, 'cohyst_template_obh.out') # replace with your actual OBH OUT file name\n",
    "sfr_file = os.path.join(model_ws, 'cohyst_template_sfr.out') # replace with your actual SFR OUT file name\n",
    "\n",
    "# Check if files exist\n",
    "print(os.path.isfile(dis_file))  # Should print True if the file exists\n",
    "print(os.path.isfile(rch_file))  # Should print True if the file exists\n",
    "print(os.path.isfile(hds_file))  # Should print True if the file exists\n",
    "print(os.path.isfile(lst_file))  # Should print True if the file exists\n",
    "print(os.path.isfile(cbb_file))  # Should print True if the file exists\n",
    "print(os.path.isfile(ddn_file))  # Should print True if the file exists\n",
    "print(os.path.isfile(obh_file))  # Should print True if the file exists\n",
    "print(os.path.isfile(sfr_file))  # Should print True if the file exists\n"
   ]
  },
  {
   "cell_type": "markdown",
   "metadata": {},
   "source": [
    "After running the above codes, it appears that some files are missing from the COHYST MODFLOW folder (.lst, obh_out, sfr_out,.cbb, .hds, .ddn)\n",
    "This happened at the initial stages because they are all output files which are typically created after a MODFLOW model run. Each file is generated as part of the output process when the model simulation is executed successfully.\n",
    "\n",
    "LST - listing file - provides log of the entire sim including input data and model performance\n",
    "\n",
    "OBH_OUT - observed head output - shows how the model's heads compare with the observed values\n",
    "\n",
    "SFR_OUT - streamflow routing output - shows streamflow results + interactions between surface and groundwater\n",
    "\n",
    "CBB - cell-by-cell budget file - includes detailed breakdown of the water budget for each cell tracking inflows and outflows to give understanding of          flow processes within the model cell\n",
    "\n",
    "DDN - drawdown file - shows the computed drawdown for each model cell allowing the analysis of effects of groundwater pumping/other stress on the             aquifer  \n",
    "\n",
    "HDS - heads file - contains the simulated hydraulic heads for each cell in the model domain which helps in analyzing groundwater flow patterns\n"
   ]
  },
  {
   "cell_type": "code",
   "execution_count": null,
   "metadata": {
    "scrolled": true
   },
   "outputs": [],
   "source": [
    "#This step may not be necessary after model has been successfully run as it will be in the upcoming steps\n",
    "#Load the model NAM file first before trying to explore the other files\n",
    "ml = flopy.modflow.Modflow.load(\n",
    "    \"cohyst_template.nam\",\n",
    "    model_ws=workspace,\n",
    "    verbose=True,\n",
    "    version=\"mf2005\",\n",
    "    check=False,\n",
    ")"
   ]
  },
  {
   "cell_type": "markdown",
   "metadata": {},
   "source": [
    "Next we will try to load the files one by one to explore them and determine if there are any additional steps required"
   ]
  },
  {
   "cell_type": "code",
   "execution_count": null,
   "metadata": {
    "scrolled": true
   },
   "outputs": [],
   "source": [
    "# Load the DIS file - this cell is for reference only - running it results in an error\n",
    "\n",
    "dis = flopy.modflow.ModflowDis.load(dis_file, ml)\n",
    "model_name = \"cohyst_template\"\n",
    "model_ws=workspace\n",
    "# Explore the contents\n",
    "print(dis)\n",
    "print(dis.nrow, dis.ncol, dis.nlay)  # print the number of rows, columns, and layers"
   ]
  },
  {
   "cell_type": "markdown",
   "metadata": {},
   "source": [
    "DIS load error that results from running the above cell is addressed later in the notebook. At this stage it results in an error likely caused by an issue with the ext_unit_dict dictionary or the file handle that flopy expects to use for loading external files."
   ]
  },
  {
   "cell_type": "code",
   "execution_count": null,
   "metadata": {
    "scrolled": true
   },
   "outputs": [],
   "source": [
    "# Load the RCH file\n",
    "rch = flopy.modflow.ModflowRch.load(rch_file, ml)\n",
    "if rch is None:\n",
    "    raise ValueError(\"Failed to load the RCH file.\")\n",
    "else:\n",
    "    print(rch)\n",
    "    if rch.rech is None or rch.rech.shape[0] == 0:\n",
    "        raise ValueError(\"The recharge array is empty or not correctly loaded.\")\n",
    "    else:\n",
    "        print(f\"Recharge array dimensions: {rch.rech.shape}\")\n",
    "        print(rch.rech)  # Print the recharge array"
   ]
  },
  {
   "cell_type": "markdown",
   "metadata": {},
   "source": [
    "The next steps help address the error that resulted when trying to load the DIS FIle above. We have to check the formats of some files to determine how best to access them"
   ]
  },
  {
   "cell_type": "code",
   "execution_count": null,
   "metadata": {},
   "outputs": [],
   "source": [
    "# The line below prints out the format of the hydraulic conductivity array for the first layer.\n",
    "print(ml.lpf.hk[0].format)"
   ]
  },
  {
   "cell_type": "markdown",
   "metadata": {},
   "source": [
    "# Solution\n",
    "Resetting the format using a standard Fortran-type format descriptor in MODFLOW is necessary for controlling how input and output data are read and written by the program. MODFLOW, originally written in Fortran, relies on these format descriptors to interpret and process data in the correct format, particularly when dealing with formatted text files for inputs or outputs.\n",
    "Source: https://flopy.readthedocs.io/en/latest/Notebooks/array_output_tutorial.html "
   ]
  },
  {
   "cell_type": "code",
   "execution_count": null,
   "metadata": {},
   "outputs": [],
   "source": [
    "print(ml.dis.botm[0].format.fortran) #This prints the Fortran format string for the array, which is how the data would be formatted if written in Fortran, often used by MODFLOW.\n",
    "print(ml.dis.botm[0].format.py) #This prints the Python format string for the array, showing how the data is represented in Python.\n",
    "print(ml.dis.botm[0].format.numpy) #This prints the NumPy format string, which indicates how the data is represented in NumPy arrays, a core library in Python for numerical computations."
   ]
  },
  {
   "cell_type": "code",
   "execution_count": null,
   "metadata": {},
   "outputs": [],
   "source": [
    "# Reset the format using a standard fortran type format descriptor\n",
    "ml.dis.botm[0].format.free = False\n",
    "ml.dis.botm[0].format.fortran = \"(20f10.4)\"\n",
    "print(ml.dis.botm[0].format.fortran)\n",
    "print(ml.dis.botm[0].format.py)\n",
    "print(ml.dis.botm[0].format.numpy)\n",
    "print(ml.dis.botm[0].format)"
   ]
  },
  {
   "cell_type": "markdown",
   "metadata": {},
   "source": [
    "Try the DIS file load again after the above steps"
   ]
  },
  {
   "cell_type": "code",
   "execution_count": null,
   "metadata": {},
   "outputs": [],
   "source": [
    "# Load the DIS file \n",
    "dis = flopy.modflow.ModflowDis.load(dis_file, ml)\n",
    "model_name = \"cohyst_template\"\n",
    "model_ws=workspace\n",
    "# Explore the contents\n",
    "print(dis)\n",
    "print(dis.nrow, dis.ncol, dis.nlay)  # print the number of rows, columns, and layers"
   ]
  },
  {
   "cell_type": "markdown",
   "metadata": {},
   "source": [
    "**Now the model is ready and can be run**"
   ]
  },
  {
   "cell_type": "code",
   "execution_count": null,
   "metadata": {
    "scrolled": true
   },
   "outputs": [],
   "source": [
    "#Write input and run model\n",
    "ml.write_input()\n",
    "success, buff = ml.run_model(silent=True, report=True)\n",
    "if success:\n",
    "    for line in buff:\n",
    "        print(line)\n",
    "else:\n",
    "    raise ValueError(\"Failed to run.\")"
   ]
  },
  {
   "cell_type": "markdown",
   "metadata": {},
   "source": [
    "NB: Once the model has been run, we can now explore it further in the next steps"
   ]
  },
  {
   "cell_type": "code",
   "execution_count": null,
   "metadata": {},
   "outputs": [],
   "source": [
    "\n",
    "# Let's try to plot the grid\n",
    "fig, ax = plt.subplots(figsize=(10, 10))\n",
    "mf.modelgrid.plot(ax=ax)\n",
    "\n",
    "# Display the plot\n",
    "plt.title('MODFLOW Model Grid')\n",
    "plt.show()"
   ]
  },
  {
   "cell_type": "markdown",
   "metadata": {},
   "source": [
    "**What happened?**\n",
    "\n",
    "The plot appears as a solid grey rectangle because the grid representation in the MODFLOW model might not be fully configured or is not displaying cell boundaries properly. This can happen if:\n",
    "\n",
    "Inactive Cells Are Not Displayed: If the plot only shows active cells, and the grid is entirely inactive or undifferentiated, it may appear as a solid color.\n",
    "\n",
    "Grid Data Not Loaded Properly: If the MODFLOW model does not contain active grid data or if the grid boundaries are not defined, it will show up as a solid block.\n",
    "\n",
    "Plot Parameters: If specific plot parameters such as plot_bc() or plot_array() are not used, the plot may only display the outline of the model grid instead of individual cells or attributes."
   ]
  },
  {
   "cell_type": "code",
   "execution_count": null,
   "metadata": {},
   "outputs": [],
   "source": [
    "#You can first try to check for active and inactive cells\n",
    "mf.dis.idomain.array  # Check the array of active/inactive cells"
   ]
  },
  {
   "cell_type": "markdown",
   "metadata": {},
   "source": [
    "**You will likely get an error when you run the above cell**\n",
    "\n",
    "The AttributeError indicates that the ModflowDis object does not have an idomain attribute, which typically stores information about active and inactive cells. \n",
    "\n",
    "This is common in older versions of MODFLOW (this is 2005) or FloPy (flopy is up-to-date) where the idomain attribute might not be directly accessible.\n",
    "\n",
    "**What steps can we take?**\n",
    "\n",
    "Verify Model Version and Array Name: Depending on the version of MODFLOW and FloPy, the attribute names for active cells may differ."
   ]
  },
  {
   "cell_type": "code",
   "execution_count": null,
   "metadata": {},
   "outputs": [],
   "source": [
    "#print available attributes to confirm:\n",
    "print(dir(mf.dis))  # List available attributes in the discretization package\n"
   ]
  },
  {
   "cell_type": "markdown",
   "metadata": {},
   "source": [
    "If you encounter an AttributeError for the ibound attribute, it could be because the ibound array is not explicitly named as such within the model or is accessed differently in your setup. In MODFLOW 2005, ibound is usually included with the discretization package but is sometimes referred to in FloPy with other specific attributes or may need to be constructed manually.\n",
    "\n",
    "Below is how to work around this:\n",
    "\n",
    "- Access the bas6 Package for IBOUND:\n",
    "The ibound array is often stored in the basic package (bas6) of MODFLOW 2005. "
   ]
  },
  {
   "cell_type": "code",
   "execution_count": null,
   "metadata": {},
   "outputs": [],
   "source": [
    "# Check for Basic Package Existence and if bas6 is listed then use the next cell code to access\n",
    "print(mf.get_package_list())  # This will list all packages associated with your model"
   ]
  },
  {
   "cell_type": "code",
   "execution_count": null,
   "metadata": {},
   "outputs": [],
   "source": [
    "# Now access ibound array in modflow2005 is \n",
    "\n",
    "ibound = mf.bas6.ibound.array  # Access the ibound array from the basic package\n"
   ]
  },
  {
   "cell_type": "markdown",
   "metadata": {},
   "source": [
    "**Now you can plot the active and inactive cells!** "
   ]
  },
  {
   "cell_type": "code",
   "execution_count": null,
   "metadata": {},
   "outputs": [],
   "source": [
    "import matplotlib.pyplot as plt\n",
    "import flopy\n",
    "\n",
    "fig, ax = plt.subplots(figsize=(10, 10))\n",
    "map_view = flopy.plot.PlotMapView(model=mf, ax=ax)\n",
    "map_view.plot_array(ibound[0])  # Plot the first layer; adjust the index as needed for other layers\n",
    "plt.title('Active Cells in MODFLOW Model Grid - Layer 1')\n",
    "plt.show()"
   ]
  },
  {
   "cell_type": "markdown",
   "metadata": {},
   "source": [
    "**You can plot the hydraulic conductivity**"
   ]
  },
  {
   "cell_type": "code",
   "execution_count": null,
   "metadata": {},
   "outputs": [],
   "source": [
    "fig, ax = plt.subplots(figsize=(10, 10))\n",
    "conductivity = mf.lpf.hk.array  # Hydraulic conductivity in MODFLOW 2005\n",
    "map_view = flopy.plot.PlotMapView(model=mf, ax=ax)\n",
    "map_view.plot_array(conductivity[0])  # Layer 1, adjust the index as needed\n",
    "plt.title('Hydraulic Conductivity in MODFLOW Model Grid - Layer 1')\n",
    "plt.show()"
   ]
  },
  {
   "cell_type": "code",
   "execution_count": null,
   "metadata": {},
   "outputs": [],
   "source": [
    "# Get well data from the WEL package\n",
    "if 'WEL' in mf.get_package_list():\n",
    "    wel = mf.wel\n",
    "    wel_data = wel.stress_period_data[0]  # Get the well data for the first stress period\n",
    "    well_locations = [(rec['i'], rec['j']) for rec in wel_data]  # Extract the row, col locations\n",
    "\n",
    "# Plot the model grid\n",
    "fig, ax = plt.subplots(figsize=(10, 10))\n",
    "mf.modelgrid.plot(ax=ax)\n",
    "\n",
    "# Plot well locations on the grid\n",
    "for loc in well_locations:\n",
    "    ax.plot(loc[1], loc[0], 'ro', label='Well')  # loc[1] is column (x), loc[0] is row (y)\n",
    "\n",
    "plt.title('MODFLOW Model Grid with Wells')\n",
    "plt.show()"
   ]
  },
  {
   "cell_type": "markdown",
   "metadata": {},
   "source": [
    "**The above steps may result in a gray plot too so we have some additional steps to fix this**"
   ]
  },
  {
   "cell_type": "code",
   "execution_count": null,
   "metadata": {},
   "outputs": [],
   "source": [
    "# Check if the Well (WEL) package exists in the model\n",
    "package_list = mf.get_package_list()\n",
    "if 'WEL' in package_list:\n",
    "    print(\"WEL package exists in the model.\")\n",
    "    \n",
    "    # Access Well package data\n",
    "    wel = mf.get_package('WEL')\n",
    "    wel_data = wel.stress_period_data  # Get well data for all stress periods\n",
    "    print(f\"Well data for first stress period: {wel_data[0]}\")\n",
    "else:\n",
    "    print(\"WEL package does not exist in the model.\")"
   ]
  },
  {
   "cell_type": "code",
   "execution_count": null,
   "metadata": {},
   "outputs": [],
   "source": [
    "# ---- Extract Head Data ----\n",
    "# Load the head file (.hds file)\n",
    "hds = flopy.utils.HeadFile(f'{model_ws}/{model_name}.hds')\n",
    "\n",
    "# Check available time steps for head data\n",
    "times = hds.get_times()\n",
    "print(f\"Available times in head file: {times}\")\n",
    "\n",
    "# Get head data for the final time step (or specify a time step)\n",
    "if len(times) > 0:\n",
    "    head_data = hds.get_data(totim=times[-1])  # Extract head data for the final time step\n",
    "    print(\"Head data for the final time step:\")\n",
    "    print(head_data)\n",
    "else:\n",
    "    print(\"No times available in head file.\")\n",
    "\n",
    "# ---- Extract Flow Data ----\n",
    "# Load the cell-by-cell budget file (.cbb file)\n",
    "cbb = flopy.utils.CellBudgetFile(f'{model_ws}/{model_name}.cbb')\n",
    "\n",
    "# Check available time steps for flow data\n",
    "cbb_times = cbb.get_times()\n",
    "print(f\"Available times in cell-by-cell budget file: {cbb_times}\")\n",
    "\n",
    "# List available record types (e.g., 'FLOW RIGHT FACE', 'RECHARGE')\n",
    "record_names = cbb.get_unique_record_names()\n",
    "print(f\"Available record names in .cbb file: {record_names}\")\n",
    "\n",
    "# Check if there are valid times and flow records\n",
    "if len(cbb_times) > 0 and 'FLOW RIGHT FACE' in record_names:\n",
    "    # Get flow data for the final time step\n",
    "    flow_data = cbb.get_data(text='FLOW RIGHT FACE', totim=cbb_times[-1])  # Final time step\n",
    "    print(\"Flow data for 'FLOW RIGHT FACE' for the final time step:\")\n",
    "    print(flow_data)\n",
    "else:\n",
    "    print(\"No valid flow data available for 'FLOW RIGHT FACE' or no time steps available.\")"
   ]
  },
  {
   "cell_type": "code",
   "execution_count": null,
   "metadata": {},
   "outputs": [],
   "source": [
    "# Plot head data for the first layer (layer=0)\n",
    "layer = 0\n",
    "head_layer = head_data[layer, :, :]  # Extract data for the specified layer\n",
    "\n",
    "# Create a plot of the head data\n",
    "fig, ax = plt.subplots(figsize=(10, 10))\n",
    "c = ax.contourf(head_layer, cmap='viridis')  # Use contour plot to visualize head\n",
    "plt.colorbar(c, ax=ax, label='Head (m)')\n",
    "plt.title(f'Head Distribution for Layer {layer} (Final Time Step)')\n",
    "plt.xlabel('Column')\n",
    "plt.ylabel('Row')\n",
    "#plt.show()\n",
    "plt.savefig('C:/Users/Brend/Downloads/head_distribution_layer.png', format='png', dpi=300)"
   ]
  },
  {
   "cell_type": "code",
   "execution_count": null,
   "metadata": {},
   "outputs": [],
   "source": [
    "# Assuming well data exists in the 'WEL' package\n",
    "if 'WEL' in mf.get_package_list():\n",
    "    wel = mf.get_package('WEL')\n",
    "    wel_data = wel.stress_period_data[0]  # Get well data for the first stress period\n",
    "    well_locations = [(rec['i'], rec['j']) for rec in wel_data]  # Extract row, col locations\n",
    "\n",
    "    # Plot well locations on top of the head data\n",
    "    fig, ax = plt.subplots(figsize=(10, 10))\n",
    "    c = ax.contourf(head_layer, cmap='viridis')\n",
    "    plt.colorbar(c, ax=ax, label='Head (m)')\n",
    "\n",
    "    # Plot wells as red dots\n",
    "    for loc in well_locations:\n",
    "        row, col = loc\n",
    "        ax.plot(col, row, 'ro', markersize=8, label='Well')\n",
    "\n",
    "    plt.title(f'Head Distribution with Wells for Layer {layer}')\n",
    "    plt.xlabel('Column')\n",
    "    plt.ylabel('Row')\n",
    "    #plt.show()\n",
    "    plt.savefig('C:/Users/Brend/Downloads/head_distribution_with_wells_layer.png', format='png', dpi=300)"
   ]
  },
  {
   "cell_type": "code",
   "execution_count": null,
   "metadata": {
    "scrolled": true
   },
   "outputs": [],
   "source": [
    "# Checking information on stress periods in COHYST model\n",
    "# Load the discretization package\n",
    "dis = mf.get_package('DIS')\n",
    "\n",
    "# Check the number of stress periods\n",
    "nper = dis.nper\n",
    "print(f\"Number of stress periods: {nper}\")\n",
    "\n",
    "# Print the details of each stress period\n",
    "print(\"Stress Period Details:\")\n",
    "for i in range(nper):\n",
    "    print(f\"  Stress Period {i + 1}:\")\n",
    "    print(f\"    Length: {dis.perlen[i]}\")\n",
    "    print(f\"    Time Steps: {dis.nstp[i]}\")\n",
    "    print(f\"    Steady-State: {dis.steady[i]}\")\n"
   ]
  },
  {
   "cell_type": "code",
   "execution_count": null,
   "metadata": {},
   "outputs": [],
   "source": [
    "# To check the time units first Load the discretization package\n",
    "dis = mf.get_package('DIS')\n",
    "\n",
    "# Check the time units\n",
    "time_units_code = dis.itmuni\n",
    "time_units = {0: \"undefined\", 1: \"seconds\", 2: \"minutes\", 3: \"hours\", 4: \"days\", 5: \"years\"}\n",
    "\n",
    "# Display the time unit\n",
    "print(f\"Time units: {time_units.get(time_units_code, 'unknown')}\")\n"
   ]
  },
  {
   "cell_type": "code",
   "execution_count": null,
   "metadata": {
    "scrolled": true
   },
   "outputs": [],
   "source": [
    "# Access the GHB - General-Head Boundary package - this will give idea of how boundary conditions are influencing GW flow\n",
    "ghb = mf.get_package('GHB')\n",
    "\n",
    "# Display the stress period data (head, conductance, and cell locations)\n",
    "ghb_data = ghb.stress_period_data  # Dictionary containing boundary data for each stress period\n",
    "\n",
    "# For example, to view data for the first stress period\n",
    "print(\"GHB Data for Stress Period 1:\")\n",
    "print(ghb_data[0])\n",
    "# The output  is (layer, row, column, head (units?), conductance)"
   ]
  },
  {
   "cell_type": "code",
   "execution_count": null,
   "metadata": {},
   "outputs": [],
   "source": [
    "#Exploring well package\n",
    "# Access the WEL package\n",
    "wel = mf.get_package('WEL')\n",
    "\n",
    "# Get the stress period data\n",
    "well_data = wel.stress_period_data  # Dictionary with data for each stress period\n",
    "\n",
    "# Example: Print well data for the first stress period (0)\n",
    "\n",
    "print(\"Well Data for Stress Period 1:\")\n",
    "print(well_data[0])\n",
    "\n",
    "#should show list of wells (layer, row, column, pumping rate + is injection and - is extraction)"
   ]
  },
  {
   "cell_type": "code",
   "execution_count": null,
   "metadata": {},
   "outputs": [],
   "source": [
    "# Assuming 'RECHARGE' is one of the boundary conditions in the cbb file\n",
    "if 'RECHARGE' in cbb.get_unique_record_names():\n",
    "    # Get recharge data for the final time step (if available - essential for me to find this out for cohyst)\n",
    "    recharge_data = cbb.get_data(text='RECHARGE')\n",
    "    if recharge_data:\n",
    "        recharge_array = recharge_data[0]  # Extract the first layer of recharge data\n",
    "\n",
    "        # Plot recharge on top of the head data\n",
    "        fig, ax = plt.subplots(figsize=(10, 10))\n",
    "        c = ax.contourf(head_layer, cmap='viridis')\n",
    "        plt.colorbar(c, ax=ax, label='Head (m)')\n",
    "\n",
    "        # Plot recharge as a contour plot\n",
    "        r = ax.contour(recharge_array, colors='blue', levels=5)\n",
    "        plt.colorbar(r, ax=ax, label='Recharge (m/day)')\n",
    "        \n",
    "        plt.title(f'Head Distribution with Recharge for Layer {layer}')\n",
    "        plt.xlabel('Column')\n",
    "        plt.ylabel('Row')\n",
    "        #plt.show()\n",
    "        plt.savefig('C:/Users/Brend/Downloads/head_distribution_with_recharge_layer.png', format='png', dpi=300)\n",
    "    else:\n",
    "        print(\"No recharge data available.\")"
   ]
  },
  {
   "cell_type": "markdown",
   "metadata": {},
   "source": [
    "<strong> You are all set! </strong> You can continue to explore the model as you determine how best to use it to suit your objectives\n",
    "\n"
   ]
  },
  {
   "cell_type": "code",
   "execution_count": null,
   "metadata": {},
   "outputs": [],
   "source": []
  }
 ],
 "metadata": {
  "kernelspec": {
   "display_name": "Python 3 (ipykernel)",
   "language": "python",
   "name": "python3"
  },
  "language_info": {
   "codemirror_mode": {
    "name": "ipython",
    "version": 3
   },
   "file_extension": ".py",
   "mimetype": "text/x-python",
   "name": "python",
   "nbconvert_exporter": "python",
   "pygments_lexer": "ipython3",
   "version": "3.11.9"
  }
 },
 "nbformat": 4,
 "nbformat_minor": 4
}
